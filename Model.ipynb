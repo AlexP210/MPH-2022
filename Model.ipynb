{
 "cells": [
  {
   "cell_type": "code",
   "execution_count": 9,
   "metadata": {},
   "outputs": [],
   "source": [
    "from tensorflow import keras\n",
    "from keras import layers\n",
    "import os\n",
    "import numpy as np\n",
    "import matplotlib"
   ]
  },
  {
   "cell_type": "code",
   "execution_count": 13,
   "metadata": {},
   "outputs": [],
   "source": [
    "original_dim = (256,256)\n",
    "intermediate_dim = 64\n",
    "latent_dim = 2"
   ]
  },
  {
   "cell_type": "code",
   "execution_count": 3,
   "metadata": {},
   "outputs": [],
   "source": [
    "inputs = keras.Input(shape=(original_dim,))\n",
    "h = layers.Dense(intermediate_dim, activation='relu')(inputs)\n",
    "z_mean = layers.Dense(latent_dim)(h)\n",
    "z_log_sigma = layers.Dense(latent_dim)(h)\n",
    "\n",
    "from keras import backend as K\n",
    "\n",
    "def sampling(args):\n",
    "    z_mean, z_log_sigma = args\n",
    "    epsilon = K.random_normal(shape=(K.shape(z_mean)[0], latent_dim),\n",
    "                              mean=0., stddev=0.1)\n",
    "    return z_mean + K.exp(z_log_sigma) * epsilon\n",
    "\n",
    "z = layers.Lambda(sampling)([z_mean, z_log_sigma])\n",
    "\n",
    "# Create encoder\n",
    "encoder = keras.Model(inputs, [z_mean, z_log_sigma, z], name='encoder')\n",
    "\n",
    "# Create decoder\n",
    "latent_inputs = keras.Input(shape=(latent_dim,), name='z_sampling')\n",
    "x = layers.Dense(intermediate_dim, activation='relu')(latent_inputs)\n",
    "outputs = layers.Dense(original_dim, activation='sigmoid')(x)\n",
    "decoder = keras.Model(latent_inputs, outputs, name='decoder')\n",
    "\n",
    "# instantiate VAE model\n",
    "outputs = decoder(encoder(inputs)[2])\n",
    "vae = keras.Model(inputs, outputs, name='vae_mlp')\n"
   ]
  },
  {
   "cell_type": "code",
   "execution_count": 4,
   "metadata": {},
   "outputs": [],
   "source": [
    "# Create the loss function\n",
    "reconstruction_loss = keras.losses.binary_crossentropy(inputs, outputs)\n",
    "reconstruction_loss *= original_dim\n",
    "kl_loss = 1 + z_log_sigma - K.square(z_mean) - K.exp(z_log_sigma)\n",
    "kl_loss = K.sum(kl_loss, axis=-1)\n",
    "kl_loss *= -0.5\n",
    "vae_loss = K.mean(reconstruction_loss + kl_loss)\n",
    "vae.add_loss(vae_loss)\n",
    "vae.compile(optimizer='adam')"
   ]
  },
  {
   "cell_type": "code",
   "execution_count": 18,
   "metadata": {},
   "outputs": [
    {
     "name": "stdout",
     "output_type": "stream",
     "text": [
      "(3, 166, 256)\n",
      "(3, 174, 256)\n",
      "(3, 203, 256)\n",
      "(3, 140, 256)\n",
      "(3, 256, 256)\n",
      "(3, 163, 256)\n",
      "(4, 256, 170)\n",
      "(3, 256, 256)\n",
      "(3, 256, 192)\n",
      "(3, 256, 168)\n",
      "(3, 192, 256)\n",
      "(3, 256, 171)\n",
      "(3, 256, 181)\n",
      "(3, 256, 256)\n",
      "(3, 256, 256)\n",
      "(4, 256, 153)\n",
      "(3, 181, 256)\n",
      "(3, 192, 256)\n",
      "(3, 185, 256)\n",
      "(3, 192, 256)\n",
      "(3, 211, 256)\n",
      "(3, 192, 256)\n",
      "(3, 150, 256)\n",
      "(4, 256, 256)\n",
      "(3, 256, 183)\n",
      "(3, 256, 204)\n",
      "(3, 192, 256)\n",
      "(3, 194, 256)\n",
      "(4, 250, 256)\n",
      "(3, 192, 256)\n",
      "(3, 256, 205)\n",
      "(3, 192, 256)\n",
      "(3, 256, 181)\n",
      "(180, 256)\n",
      "(3, 256, 256)\n",
      "(3, 192, 256)\n",
      "(3, 256, 222)\n",
      "(4, 256, 192)\n",
      "(3, 256, 256)\n",
      "(3, 192, 256)\n",
      "(3, 192, 256)\n",
      "(3, 256, 256)\n",
      "(3, 256, 256)\n",
      "(3, 192, 256)\n",
      "(3, 256, 184)\n",
      "(4, 256, 256)\n",
      "(3, 171, 256)\n",
      "(3, 254, 256)\n",
      "(3, 212, 256)\n",
      "(4, 229, 256)\n",
      "(4, 256, 249)\n",
      "(3, 188, 256)\n",
      "(3, 249, 256)\n",
      "(3, 256, 205)\n",
      "(3, 237, 256)\n",
      "(4, 256, 177)\n",
      "(3, 256, 256)\n",
      "(3, 256, 256)\n",
      "(3, 256, 146)\n",
      "(3, 256, 256)\n",
      "(3, 144, 256)\n",
      "(3, 192, 256)\n",
      "(3, 256, 192)\n",
      "(3, 256, 161)\n",
      "(3, 205, 256)\n",
      "(3, 223, 256)\n",
      "(3, 229, 256)\n",
      "(3, 256, 171)\n",
      "(3, 256, 225)\n",
      "(3, 192, 256)\n",
      "(3, 236, 256)\n",
      "(4, 256, 140)\n",
      "(4, 209, 256)\n",
      "(3, 256, 206)\n",
      "(3, 192, 256)\n",
      "(3, 256, 256)\n",
      "(3, 256, 192)\n",
      "(3, 249, 256)\n",
      "(4, 251, 256)\n",
      "(3, 255, 256)\n",
      "(3, 192, 256)\n",
      "(3, 256, 256)\n",
      "(3, 185, 256)\n",
      "(3, 223, 256)\n",
      "(4, 192, 256)\n"
     ]
    }
   ],
   "source": [
    "from PIL import Image\n",
    "subreddits = os.listdir(\"Data\")\n",
    "for subreddit in subreddits:\n",
    "    subreddit_folder = os.path.join(\"Data\", subreddit)\n",
    "    image_paths = [os.path.join(subreddit_folder, filename) for filename in os.listdir(subreddit_folder) if \".csv\" not in filename]\n",
    "    for image_path in image_paths:\n",
    "        image = Image.open(image_path)\n",
    "        image.thumbnail(original_dim)\n",
    "        # image.show()\n",
    "        image_array = np.asarray(image).T\n",
    "        print(image_array.shape)\n",
    "        "
   ]
  },
  {
   "cell_type": "code",
   "execution_count": null,
   "metadata": {},
   "outputs": [],
   "source": []
  }
 ],
 "metadata": {
  "kernelspec": {
   "display_name": "Python 3.9.10 ('MPH-2022-Env')",
   "language": "python",
   "name": "python3"
  },
  "language_info": {
   "codemirror_mode": {
    "name": "ipython",
    "version": 3
   },
   "file_extension": ".py",
   "mimetype": "text/x-python",
   "name": "python",
   "nbconvert_exporter": "python",
   "pygments_lexer": "ipython3",
   "version": "3.9.10"
  },
  "orig_nbformat": 4,
  "vscode": {
   "interpreter": {
    "hash": "e68ef567277801e40ba869e3328ed3ebeff6b1218c8a32ed665bfe3f06aa4552"
   }
  }
 },
 "nbformat": 4,
 "nbformat_minor": 2
}
