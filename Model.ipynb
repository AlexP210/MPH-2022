{
 "cells": [
  {
   "cell_type": "code",
   "execution_count": 9,
   "metadata": {},
   "outputs": [],
   "source": [
    "from tensorflow import keras\n",
    "from keras import layers\n",
    "import os\n",
    "import numpy as np\n",
    "import matplotlib"
   ]
  },
  {
   "cell_type": "code",
   "execution_count": 2,
   "metadata": {},
   "outputs": [],
   "source": [
    "original_dim = (256,256)\n",
    "intermediate_dim = 64\n",
    "latent_dim = 2"
   ]
  },
  {
   "cell_type": "code",
   "execution_count": 3,
   "metadata": {},
   "outputs": [],
   "source": [
    "inputs = keras.Input(shape=(original_dim,))\n",
    "h = layers.Dense(intermediate_dim, activation='relu')(inputs)\n",
    "z_mean = layers.Dense(latent_dim)(h)\n",
    "z_log_sigma = layers.Dense(latent_dim)(h)\n",
    "\n",
    "from keras import backend as K\n",
    "\n",
    "def sampling(args):\n",
    "    z_mean, z_log_sigma = args\n",
    "    epsilon = K.random_normal(shape=(K.shape(z_mean)[0], latent_dim),\n",
    "                              mean=0., stddev=0.1)\n",
    "    return z_mean + K.exp(z_log_sigma) * epsilon\n",
    "\n",
    "z = layers.Lambda(sampling)([z_mean, z_log_sigma])\n",
    "\n",
    "# Create encoder\n",
    "encoder = keras.Model(inputs, [z_mean, z_log_sigma, z], name='encoder')\n",
    "\n",
    "# Create decoder\n",
    "latent_inputs = keras.Input(shape=(latent_dim,), name='z_sampling')\n",
    "x = layers.Dense(intermediate_dim, activation='relu')(latent_inputs)\n",
    "outputs = layers.Dense(original_dim, activation='sigmoid')(x)\n",
    "decoder = keras.Model(latent_inputs, outputs, name='decoder')\n",
    "\n",
    "# instantiate VAE model\n",
    "outputs = decoder(encoder(inputs)[2])\n",
    "vae = keras.Model(inputs, outputs, name='vae_mlp')\n"
   ]
  },
  {
   "cell_type": "code",
   "execution_count": 4,
   "metadata": {},
   "outputs": [],
   "source": [
    "# Create the loss function\n",
    "reconstruction_loss = keras.losses.binary_crossentropy(inputs, outputs)\n",
    "reconstruction_loss *= original_dim\n",
    "kl_loss = 1 + z_log_sigma - K.square(z_mean) - K.exp(z_log_sigma)\n",
    "kl_loss = K.sum(kl_loss, axis=-1)\n",
    "kl_loss *= -0.5\n",
    "vae_loss = K.mean(reconstruction_loss + kl_loss)\n",
    "vae.add_loss(vae_loss)\n",
    "vae.compile(optimizer='adam')"
   ]
  },
  {
   "cell_type": "code",
   "execution_count": 11,
   "metadata": {},
   "outputs": [
    {
     "name": "stdout",
     "output_type": "stream",
     "text": [
      "[[[175 176 173 ... 104 102 100]\n",
      "  [167 168 167 ... 100  98  97]\n",
      "  [163 164 162 ...  94  93  92]\n",
      "  ...\n",
      "  [156 152 150 ... 106 105 104]\n",
      "  [148 147 148 ... 108 105 102]\n",
      "  [141 143 144 ... 109 105 102]]\n",
      "\n",
      " [[150 151 150 ...  91  89  87]\n",
      "  [142 143 144 ...  89  87  86]\n",
      "  [138 139 139 ...  88  87  86]\n",
      "  ...\n",
      "  [131 128 125 ...  95  94  93]\n",
      "  [123 122 123 ...  97  94  91]\n",
      "  [116 118 121 ...  98  94  91]]\n",
      "\n",
      " [[172 173 170 ... 100  98  96]\n",
      "  [164 165 164 ...  97  95  94]\n",
      "  [159 160 159 ...  92  91  90]\n",
      "  ...\n",
      "  [127 126 128 ...  99  98  97]\n",
      "  [126 125 127 ... 101  98  95]\n",
      "  [120 122 127 ... 102  98  95]]]\n"
     ]
    }
   ],
   "source": [
    "from PIL import Image\n",
    "subreddits = os.listdir(\"Data\")\n",
    "for subreddit in subreddits:\n",
    "    subreddit_folder = os.path.join(\"Data\", subreddit)\n",
    "    image_paths = [os.path.join(subreddit_folder, filename) for filename in os.listdir(subreddit_folder) if \".csv\" not in filename]\n",
    "    for image_path in image_paths:\n",
    "        image = Image.open(image_path)\n",
    "        \n",
    "\n",
    "        im_cropped = image.crop((left, upper,right,lower))\n",
    "        print(im_cropped.size)\n",
    "        plt.imshow(np.asarray(im_cropped))\n",
    "        image_array = np.asarray(image).T\n",
    "        "
   ]
  },
  {
   "cell_type": "code",
   "execution_count": null,
   "metadata": {},
   "outputs": [],
   "source": []
  }
 ],
 "metadata": {
  "kernelspec": {
   "display_name": "Python 3.9.10 ('MPH-2022-Env')",
   "language": "python",
   "name": "python3"
  },
  "language_info": {
   "codemirror_mode": {
    "name": "ipython",
    "version": 3
   },
   "file_extension": ".py",
   "mimetype": "text/x-python",
   "name": "python",
   "nbconvert_exporter": "python",
   "pygments_lexer": "ipython3",
   "version": "3.9.10"
  },
  "orig_nbformat": 4,
  "vscode": {
   "interpreter": {
    "hash": "e68ef567277801e40ba869e3328ed3ebeff6b1218c8a32ed665bfe3f06aa4552"
   }
  }
 },
 "nbformat": 4,
 "nbformat_minor": 2
}
