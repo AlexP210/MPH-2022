{
 "cells": [
  {
   "cell_type": "code",
   "execution_count": null,
   "metadata": {},
   "outputs": [],
   "source": []
  }
 ],
 "metadata": {
  "kernelspec": {
   "display_name": "Python 3.9.10 ('MPH-2022-Env')",
   "language": "python",
   "name": "python3"
  },
  "language_info": {
   "name": "python",
   "version": "3.9.10"
  },
  "orig_nbformat": 4,
  "vscode": {
   "interpreter": {
    "hash": "e68ef567277801e40ba869e3328ed3ebeff6b1218c8a32ed665bfe3f06aa4552"
   }
  }
 },
 "nbformat": 4,
 "nbformat_minor": 2
}
