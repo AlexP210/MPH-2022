{
 "cells": [
  {
   "cell_type": "code",
   "execution_count": 10,
   "metadata": {},
   "outputs": [],
   "source": [
    "from tensorflow import keras\n",
    "from keras import layers\n",
    "import os\n",
    "import numpy as np\n",
    "import matplotlib"
   ]
  },
  {
   "cell_type": "code",
   "execution_count": 11,
   "metadata": {},
   "outputs": [],
   "source": [
    "original_dim = (256,256)\n",
    "intermediate_dim = 64\n",
    "latent_dim = 2"
   ]
  },
  {
   "cell_type": "code",
   "execution_count": 12,
   "metadata": {},
   "outputs": [
    {
     "ename": "TypeError",
     "evalue": "int() argument must be a string, a bytes-like object or a real number, not 'tuple'",
     "output_type": "error",
     "traceback": [
      "\u001b[1;31m---------------------------------------------------------------------------\u001b[0m",
      "\u001b[1;31mTypeError\u001b[0m                                 Traceback (most recent call last)",
      "Cell \u001b[1;32mIn [12], line 22\u001b[0m\n\u001b[0;32m     20\u001b[0m latent_inputs \u001b[39m=\u001b[39m keras\u001b[39m.\u001b[39mInput(shape\u001b[39m=\u001b[39m(latent_dim,), name\u001b[39m=\u001b[39m\u001b[39m'\u001b[39m\u001b[39mz_sampling\u001b[39m\u001b[39m'\u001b[39m)\n\u001b[0;32m     21\u001b[0m x \u001b[39m=\u001b[39m layers\u001b[39m.\u001b[39mDense(intermediate_dim, activation\u001b[39m=\u001b[39m\u001b[39m'\u001b[39m\u001b[39mrelu\u001b[39m\u001b[39m'\u001b[39m)(latent_inputs)\n\u001b[1;32m---> 22\u001b[0m outputs \u001b[39m=\u001b[39m layers\u001b[39m.\u001b[39;49mDense(original_dim, activation\u001b[39m=\u001b[39;49m\u001b[39m'\u001b[39;49m\u001b[39msigmoid\u001b[39;49m\u001b[39m'\u001b[39;49m)(x)\n\u001b[0;32m     23\u001b[0m decoder \u001b[39m=\u001b[39m keras\u001b[39m.\u001b[39mModel(latent_inputs, outputs, name\u001b[39m=\u001b[39m\u001b[39m'\u001b[39m\u001b[39mdecoder\u001b[39m\u001b[39m'\u001b[39m)\n\u001b[0;32m     25\u001b[0m \u001b[39m# instantiate VAE model\u001b[39;00m\n",
      "File \u001b[1;32mc:\\Users\\ryanp\\Development-Tools\\Python-Environments\\MPH2022\\lib\\site-packages\\keras\\dtensor\\utils.py:96\u001b[0m, in \u001b[0;36mallow_initializer_layout.<locals>._wrap_function\u001b[1;34m(layer_instance, *args, **kwargs)\u001b[0m\n\u001b[0;32m     93\u001b[0m         \u001b[39mif\u001b[39;00m layout:\n\u001b[0;32m     94\u001b[0m             layout_args[variable_name \u001b[39m+\u001b[39m \u001b[39m\"\u001b[39m\u001b[39m_layout\u001b[39m\u001b[39m\"\u001b[39m] \u001b[39m=\u001b[39m layout\n\u001b[1;32m---> 96\u001b[0m init_method(layer_instance, \u001b[39m*\u001b[39margs, \u001b[39m*\u001b[39m\u001b[39m*\u001b[39mkwargs)\n\u001b[0;32m     98\u001b[0m \u001b[39m# Inject the layout parameter after the invocation of __init__()\u001b[39;00m\n\u001b[0;32m     99\u001b[0m \u001b[39mfor\u001b[39;00m layout_param_name, layout \u001b[39min\u001b[39;00m layout_args\u001b[39m.\u001b[39mitems():\n",
      "File \u001b[1;32mc:\\Users\\ryanp\\Development-Tools\\Python-Environments\\MPH2022\\lib\\site-packages\\keras\\layers\\core\\dense.py:119\u001b[0m, in \u001b[0;36mDense.__init__\u001b[1;34m(self, units, activation, use_bias, kernel_initializer, bias_initializer, kernel_regularizer, bias_regularizer, activity_regularizer, kernel_constraint, bias_constraint, **kwargs)\u001b[0m\n\u001b[0;32m    102\u001b[0m \u001b[39m@utils\u001b[39m\u001b[39m.\u001b[39mallow_initializer_layout\n\u001b[0;32m    103\u001b[0m \u001b[39mdef\u001b[39;00m \u001b[39m__init__\u001b[39m(\n\u001b[0;32m    104\u001b[0m     \u001b[39mself\u001b[39m,\n\u001b[1;32m   (...)\u001b[0m\n\u001b[0;32m    115\u001b[0m     \u001b[39m*\u001b[39m\u001b[39m*\u001b[39mkwargs,\n\u001b[0;32m    116\u001b[0m ):\n\u001b[0;32m    117\u001b[0m     \u001b[39msuper\u001b[39m()\u001b[39m.\u001b[39m\u001b[39m__init__\u001b[39m(activity_regularizer\u001b[39m=\u001b[39mactivity_regularizer, \u001b[39m*\u001b[39m\u001b[39m*\u001b[39mkwargs)\n\u001b[1;32m--> 119\u001b[0m     \u001b[39mself\u001b[39m\u001b[39m.\u001b[39munits \u001b[39m=\u001b[39m \u001b[39mint\u001b[39;49m(units) \u001b[39mif\u001b[39;00m \u001b[39mnot\u001b[39;00m \u001b[39misinstance\u001b[39m(units, \u001b[39mint\u001b[39m) \u001b[39melse\u001b[39;00m units\n\u001b[0;32m    120\u001b[0m     \u001b[39mif\u001b[39;00m \u001b[39mself\u001b[39m\u001b[39m.\u001b[39munits \u001b[39m<\u001b[39m \u001b[39m0\u001b[39m:\n\u001b[0;32m    121\u001b[0m         \u001b[39mraise\u001b[39;00m \u001b[39mValueError\u001b[39;00m(\n\u001b[0;32m    122\u001b[0m             \u001b[39mf\u001b[39m\u001b[39m\"\u001b[39m\u001b[39mReceived an invalid value for `units`, expected \u001b[39m\u001b[39m\"\u001b[39m\n\u001b[0;32m    123\u001b[0m             \u001b[39mf\u001b[39m\u001b[39m\"\u001b[39m\u001b[39ma positive integer. Received: units=\u001b[39m\u001b[39m{\u001b[39;00munits\u001b[39m}\u001b[39;00m\u001b[39m\"\u001b[39m\n\u001b[0;32m    124\u001b[0m         )\n",
      "\u001b[1;31mTypeError\u001b[0m: int() argument must be a string, a bytes-like object or a real number, not 'tuple'"
     ]
    }
   ],
   "source": [
    "from keras import backend as K\n",
    "\n",
    "def sampling(args):\n",
    "    z_mean, z_log_sigma = args\n",
    "    epsilon = K.random_normal(shape=(K.shape(z_mean)[0], latent_dim),\n",
    "                              mean=0., stddev=0.1)\n",
    "    return z_mean + K.exp(z_log_sigma) * epsilon\n",
    "\n",
    "inputs = keras.Input(shape=original_dim)\n",
    "\n",
    "# Create/Apply Conv Layers\n",
    "bn1 = layers.BatchNormalization(input_shape=(256, 256, 3))\n",
    "c1 = layers.Conv2D(32, (3,3), activation='relu')(bn1)\n",
    "mp1 = layers.MaxPooling2D((2, 2))(c1)\n",
    "dpo1 = layers.Dropout(0.3)(mp1)\n",
    "\n",
    "bn2 = layers.BatchNormalization()(dpo1)\n",
    "c2 = layers.Conv2D(64, (3,3), activation='relu')(bn2)\n",
    "mp2 = layers.MaxPooling2D((2, 2))(c2)\n",
    "dpo2 = layers.Dropout(0.3)(mp2)\n",
    "\n",
    "bn3 = layers.BatchNormalization()(dpo2)\n",
    "c3 = layers.Conv2D(128, (3,3), activation='relu')(bn3)\n",
    "mp3 = layers.MaxPooling2D((2, 2))(c3)\n",
    "dpo3 = layers.Dropout(0.3)(mp3)\n",
    "\n",
    "bn4 = layers.BatchNormalization()(dpo3)\n",
    "c4 = layers.Conv2D(64, (3,3), activation='relu')(bn4)\n",
    "mp4 = layers.MaxPooling2D((2, 2))(c4)\n",
    "dpo4 = layers.Dropout(0.3)(mp4)\n",
    "\n",
    "bn5 = layers.BatchNormalization()(dpo4)\n",
    "c5 = layers.Conv2D(32, (3,3), activation='relu')(bn5)\n",
    "mp5 = layers.MaxPooling2D((2, 2))(c5)\n",
    "dpo5 = layers.Dropout(0.3)(mp5)\n",
    "\n",
    "# Flatten the layer\n",
    "flat = layers.Flatten()(dpo5)\n",
    "\n",
    "h = layers.Dense(intermediate_dim, activation='relu')(flat)\n",
    "z_mean = layers.Dense(latent_dim)(h)\n",
    "z_log_sigma = layers.Dense(latent_dim)(h)\n",
    "z = layers.Lambda(sampling)([z_mean, z_log_sigma])\n",
    "\n",
    "# Create encoder\n",
    "encoder = keras.Model(inputs, [z_mean, z_log_sigma, z], name='encoder')\n",
    "\n",
    "# Create decoder\n",
    "latent_inputs = keras.Input(shape=(latent_dim,), name='z_sampling')\n",
    "x = layers.Dense(intermediate_dim, activation='relu')(latent_inputs)\n",
    "outputs = layers.Dense(original_dim, activation='sigmoid')(x)\n",
    "decoder = keras.Model(latent_inputs, outputs, name='decoder')\n",
    "\n",
    "# instantiate VAE model\n",
    "outputs = decoder(encoder(inputs)[2])\n",
    "vae = keras.Model(inputs, outputs, name='vae_mlp')\n"
   ]
  },
  {
   "cell_type": "code",
   "execution_count": null,
   "metadata": {},
   "outputs": [],
   "source": [
    "# Create the loss function\n",
    "reconstruction_loss = keras.losses.binary_crossentropy(inputs, outputs)\n",
    "reconstruction_loss *= original_dim\n",
    "kl_loss = 1 + z_log_sigma - K.square(z_mean) - K.exp(z_log_sigma)\n",
    "kl_loss = K.sum(kl_loss, axis=-1)\n",
    "kl_loss *= -0.5\n",
    "vae_loss = K.mean(reconstruction_loss + kl_loss)\n",
    "vae.add_loss(vae_loss)\n",
    "vae.compile(optimizer='adam')"
   ]
  },
  {
   "cell_type": "code",
   "execution_count": 19,
   "metadata": {},
   "outputs": [
    {
     "name": "stdout",
     "output_type": "stream",
     "text": [
      "(256, 256, 3)\n"
     ]
    }
   ],
   "source": [
    "from PIL import Image\n",
    "subreddits = os.listdir(\"Data\")\n",
    "for subreddit in subreddits:\n",
    "    subreddit_folder = os.path.join(\"Data\", subreddit)\n",
    "    image_paths = [os.path.join(subreddit_folder, filename) for filename in os.listdir(subreddit_folder) if \".csv\" not in filename]\n",
    "    for image_path in image_paths:\n",
    "        image = Image.open(image_path)\n",
    "        w = image.width\n",
    "        h = image.height\n",
    "        crop = min(w, h)\n",
    "        crop_dim = (w//2 - crop//2, h//2 - crop//2, w//2 + crop//2, h//2 + crop//2)\n",
    "        image = image.crop(crop_dim)\n",
    "        image.thumbnail(original_dim)\n",
    "        # image.show()\n",
    "        image_array = np.asarray(image)\n",
    "        print(image_array.shape)\n",
    "        "
   ]
  },
  {
   "cell_type": "code",
   "execution_count": null,
   "metadata": {},
   "outputs": [],
   "source": []
  }
 ],
 "metadata": {
  "kernelspec": {
   "display_name": "Python 3.10.2 ('MPH2022')",
   "language": "python",
   "name": "python3"
  },
  "language_info": {
   "codemirror_mode": {
    "name": "ipython",
    "version": 3
   },
   "file_extension": ".py",
   "mimetype": "text/x-python",
   "name": "python",
   "nbconvert_exporter": "python",
   "pygments_lexer": "ipython3",
   "version": "3.10.2"
  },
  "orig_nbformat": 4,
  "vscode": {
   "interpreter": {
    "hash": "4a20690c1f947e4386ab7e282e6317ede482d4364b0379afb708b35b5df73b0a"
   }
  }
 },
 "nbformat": 4,
 "nbformat_minor": 2
}
