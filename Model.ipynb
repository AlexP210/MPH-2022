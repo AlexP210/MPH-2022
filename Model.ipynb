{
 "cells": [
  {
   "cell_type": "code",
   "execution_count": 10,
   "metadata": {},
   "outputs": [],
   "source": [
    "from tensorflow import keras\n",
    "from keras import layers\n",
    "import os\n",
    "import numpy as np\n",
    "import matplotlib"
   ]
  },
  {
   "cell_type": "code",
   "execution_count": 34,
   "metadata": {},
   "outputs": [],
   "source": [
    "original_dim = (256,256,3)\n",
    "intermediate_dim = 64\n",
    "latent_dim = 2"
   ]
  },
  {
   "cell_type": "code",
   "execution_count": 66,
   "metadata": {},
   "outputs": [
    {
     "name": "stdout",
     "output_type": "stream",
     "text": [
      "(None, 8, 8, 8)\n",
      "(None, 512)\n"
     ]
    }
   ],
   "source": [
    "from keras import backend as K\n",
    "\n",
    "def sampling(args):\n",
    "    z_mean, z_log_sigma = args\n",
    "    epsilon = K.random_normal(shape=(K.shape(z_mean)[0], latent_dim),\n",
    "                              mean=0., stddev=0.1)\n",
    "    return z_mean + K.exp(z_log_sigma) * epsilon\n",
    "\n",
    "inputs = keras.Input(shape=original_dim)\n",
    "\n",
    "# Create/Apply Conv Layers\n",
    "bn1 = layers.BatchNormalization()(inputs)\n",
    "c1 = layers.Conv2D(32, (2,2), activation='relu', padding='same')(bn1)\n",
    "mp1 = layers.MaxPooling2D((4, 4), padding='same')(c1)\n",
    "dpo1 = layers.Dropout(0.3)(mp1)\n",
    "\n",
    "bn2 = layers.BatchNormalization()(dpo1)\n",
    "c2 = layers.Conv2D(16, (4,4), activation='relu', padding='same')(bn2)\n",
    "mp2 = layers.MaxPooling2D((4, 4), padding='same')(c2)\n",
    "dpo2 = layers.Dropout(0.3)(mp2)\n",
    "\n",
    "bn3 = layers.BatchNormalization()(dpo2)\n",
    "c3 = layers.Conv2D(8, (8,8), activation='relu', padding='same')(bn3)\n",
    "mp3 = layers.MaxPooling2D((2, 2), padding='same')(c3)\n",
    "dpo3 = layers.Dropout(0.3)(mp3)\n",
    "print(dpo3.shape)\n",
    "\n",
    "# Flatten the layer\n",
    "flat = layers.Flatten()(dpo3)\n",
    "print(flat.shape)\n",
    "h = layers.Dense(intermediate_dim, activation='relu')(flat)\n",
    "z_mean = layers.Dense(latent_dim)(h)\n",
    "z_log_sigma = layers.Dense(latent_dim)(h)\n",
    "z = layers.Lambda(sampling)([z_mean, z_log_sigma])\n",
    "\n",
    "# Create encoder\n",
    "encoder = keras.Model(inputs, [z_mean, z_log_sigma, z], name='encoder')\n",
    "\n",
    "# Create decoder\n",
    "latent_inputs = keras.Input(shape=(latent_dim,), name='z_sampling')\n",
    "x = layers.Dense(intermediate_dim, activation='relu')(latent_inputs)\n",
    "x = layers.Dense(512, activation='relu')(x)\n",
    "\n",
    "reshape = layers.Reshape((8,8,8))(x) # undo flatten\n",
    "# Deconvolution\n",
    "bn4 = layers.BatchNormalization()(reshape)\n",
    "c4 = layers.Conv2D(8, (8,8), activation='relu', padding='same')(bn4)\n",
    "us4 = layers.UpSampling2D((4, 4))(c4)\n",
    "dpo4 = layers.Dropout(0.3)(us4)\n",
    "\n",
    "bn5 = layers.BatchNormalization()(dpo4)\n",
    "c5 = layers.Conv2D(16, (4,4), activation='relu', padding='same')(bn5)\n",
    "us5 = layers.UpSampling2D((2, 2))(c5)\n",
    "dpo5 = layers.Dropout(0.3)(us5)\n",
    "\n",
    "bn6 = layers.BatchNormalization()(dpo5)\n",
    "c6 = layers.Conv2D(32, (2,2), activation='relu', padding='same')(bn6)\n",
    "us6 = layers.UpSampling2D((4, 4))(c6)\n",
    "dpo6 = layers.Dropout(0.3)(us6)\n",
    "\n",
    "# bn7 = layers.BatchNormalization()(dpo6)\n",
    "# c7 = layers.Conv2D(32, (2,2), activation='relu', padding='same')(bn7)\n",
    "# us7 = layers.UpSampling2D((4, 4))(c7)\n",
    "# dpo7 = layers.Dropout(0.3)(us7)\n",
    "\n",
    "# bn8 = layers.BatchNormalization()(dpo7)\n",
    "# c8 = layers.Conv2D(32, (2,2), activation='relu', padding='same')(bn8)\n",
    "# us8 = layers.UpSampling2D((4, 4))(c8)\n",
    "# dpo8 = layers.Dropout(0.3)(us8)\n",
    "\n",
    "outputs = layers.Conv2D(3, (3,3), activation='sigmoid', padding='same')(dpo6)\n",
    "\n",
    "\n",
    "# outputs = layers.Dense(original_dim[1], activation='sigmoid')()\n",
    "\n",
    "\n",
    "\n",
    "\n",
    "\n",
    "\n",
    "decoder = keras.Model(latent_inputs, outputs, name='decoder')\n",
    "\n",
    "\n",
    "\n",
    "\n",
    "\n",
    "# instantiate VAE model\n",
    "outputs = decoder(encoder(inputs)[2])\n",
    "vae = keras.Model(inputs, outputs, name='vae_mlp')\n"
   ]
  },
  {
   "cell_type": "code",
   "execution_count": 67,
   "metadata": {},
   "outputs": [],
   "source": [
    "# Create the loss function\n",
    "reconstruction_loss = keras.losses.binary_crossentropy(inputs, outputs)\n",
    "reconstruction_loss *= original_dim[1]\n",
    "kl_loss = 1 + z_log_sigma - K.square(z_mean) - K.exp(z_log_sigma)\n",
    "kl_loss = K.sum(kl_loss, axis=-1)\n",
    "kl_loss *= -0.5\n",
    "vae_loss = K.mean(reconstruction_loss + kl_loss)\n",
    "vae.add_loss(vae_loss)\n",
    "vae.compile(optimizer='adam')\n",
    "print(vae.summary())"
   ]
  },
  {
   "cell_type": "code",
   "execution_count": 28,
   "metadata": {},
   "outputs": [
    {
     "ename": "FileNotFoundError",
     "evalue": "[WinError 3] The system cannot find the path specified: 'Data'",
     "output_type": "error",
     "traceback": [
      "\u001b[1;31m---------------------------------------------------------------------------\u001b[0m",
      "\u001b[1;31mFileNotFoundError\u001b[0m                         Traceback (most recent call last)",
      "Cell \u001b[1;32mIn [28], line 2\u001b[0m\n\u001b[0;32m      1\u001b[0m \u001b[39mfrom\u001b[39;00m \u001b[39mPIL\u001b[39;00m \u001b[39mimport\u001b[39;00m Image\n\u001b[1;32m----> 2\u001b[0m subreddits \u001b[39m=\u001b[39m os\u001b[39m.\u001b[39;49mlistdir(\u001b[39m\"\u001b[39;49m\u001b[39mData\u001b[39;49m\u001b[39m\"\u001b[39;49m)\n\u001b[0;32m      3\u001b[0m \u001b[39mfor\u001b[39;00m subreddit \u001b[39min\u001b[39;00m subreddits:\n\u001b[0;32m      4\u001b[0m     subreddit_folder \u001b[39m=\u001b[39m os\u001b[39m.\u001b[39mpath\u001b[39m.\u001b[39mjoin(\u001b[39m\"\u001b[39m\u001b[39mData\u001b[39m\u001b[39m\"\u001b[39m, subreddit)\n",
      "\u001b[1;31mFileNotFoundError\u001b[0m: [WinError 3] The system cannot find the path specified: 'Data'"
     ]
    }
   ],
   "source": [
    "from PIL import Image\n",
    "subreddits = os.listdir(\"Data\")\n",
    "for subreddit in subreddits:\n",
    "    subreddit_folder = os.path.join(\"Data\", subreddit)\n",
    "    image_paths = [os.path.join(subreddit_folder, filename) for filename in os.listdir(subreddit_folder) if \".csv\" not in filename]\n",
    "    for image_path in image_paths:\n",
    "        image = Image.open(image_path)\n",
    "        w = image.width\n",
    "        h = image.height\n",
    "        crop = min(w, h)\n",
    "        crop_dim = (w//2 - crop//2, h//2 - crop//2, w//2 + crop//2, h//2 + crop//2)\n",
    "        image = image.crop(crop_dim)\n",
    "        image.thumbnail(original_dim)\n",
    "        # image.show()\n",
    "        image_array = np.asarray(image)\n",
    "        print(image_array.shape)\n",
    "        "
   ]
  },
  {
   "cell_type": "code",
   "execution_count": null,
   "metadata": {},
   "outputs": [],
   "source": []
  }
 ],
 "metadata": {
  "kernelspec": {
   "display_name": "Python 3.10.2 ('MPH2022')",
   "language": "python",
   "name": "python3"
  },
  "language_info": {
   "codemirror_mode": {
    "name": "ipython",
    "version": 3
   },
   "file_extension": ".py",
   "mimetype": "text/x-python",
   "name": "python",
   "nbconvert_exporter": "python",
   "pygments_lexer": "ipython3",
   "version": "3.10.2"
  },
  "orig_nbformat": 4,
  "vscode": {
   "interpreter": {
    "hash": "4a20690c1f947e4386ab7e282e6317ede482d4364b0379afb708b35b5df73b0a"
   }
  }
 },
 "nbformat": 4,
 "nbformat_minor": 2
}
